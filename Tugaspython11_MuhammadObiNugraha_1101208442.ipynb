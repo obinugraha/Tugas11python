{
  "nbformat": 4,
  "nbformat_minor": 0,
  "metadata": {
    "colab": {
      "name": "Untitled7.ipynb",
      "provenance": [],
      "mount_file_id": "1oN6JzWEGvQByJ6OjY1OZlyl-3y8teC1O",
      "authorship_tag": "ABX9TyOv2zvWb7ddHXYsdDfQ0Ubk",
      "include_colab_link": true
    },
    "kernelspec": {
      "name": "python3",
      "display_name": "Python 3"
    }
  },
  "cells": [
    {
      "cell_type": "markdown",
      "metadata": {
        "id": "view-in-github",
        "colab_type": "text"
      },
      "source": [
        "<a href=\"https://colab.research.google.com/github/obinugraha/Tugas11python/blob/main/Tugaspython11_MuhammadObiNugraha_1101208442.ipynb\" target=\"_parent\"><img src=\"https://colab.research.google.com/assets/colab-badge.svg\" alt=\"Open In Colab\"/></a>"
      ]
    },
    {
      "cell_type": "code",
      "metadata": {
        "colab": {
          "base_uri": "https://localhost:8080/"
        },
        "id": "wmPSkh98ZXrs",
        "outputId": "0839851b-c7a6-4f56-dab6-85deaeff95e8"
      },
      "source": [
        "cd /content/drive/MyDrive/Colab Notebooks"
      ],
      "execution_count": 1,
      "outputs": [
        {
          "output_type": "stream",
          "text": [
            "/content/drive/MyDrive/Colab Notebooks\n"
          ],
          "name": "stdout"
        }
      ]
    },
    {
      "cell_type": "code",
      "metadata": {
        "colab": {
          "base_uri": "https://localhost:8080/"
        },
        "id": "gorDFZwMZnrq",
        "outputId": "2e9a6bda-c7da-46c6-8e47-afd152bc5966"
      },
      "source": [
        "ls"
      ],
      "execution_count": 2,
      "outputs": [
        {
          "output_type": "stream",
          "text": [
            " \u001b[0m\u001b[01;34mcnn\u001b[0m/                       \u001b[01;34mobiracer97\u001b[0m/       Untitled2.ipynb   Untitled6.ipynb\n",
            "'Copy of Untitled1.ipynb'   \u001b[01;34mtugas11\u001b[0m/          Untitled3.ipynb   Untitled7.ipynb\n",
            "'Copy of Untitled4.ipynb'   Untitled0.ipynb   Untitled4.ipynb\n",
            " \u001b[01;34mdataset\u001b[0m/                   Untitled1.ipynb   Untitled5.ipynb\n"
          ],
          "name": "stdout"
        }
      ]
    },
    {
      "cell_type": "code",
      "metadata": {
        "id": "uBG2oBKIZpk9"
      },
      "source": [
        "# import the necessary packages\n",
        "from keras.models import Sequential\n",
        "from keras.layers.core import Activation\n",
        "from keras.layers.core import Flatten\n",
        "from keras.layers.core import Dense\n",
        "from keras.optimizers import Adam\n",
        "from sklearn.preprocessing import LabelBinarizer\n",
        "from sklearn.model_selection import train_test_split\n",
        "from sklearn.metrics import classification_report\n",
        "from PIL import Image\n",
        "from imutils import paths\n",
        "import numpy as np\n",
        "import os"
      ],
      "execution_count": 3,
      "outputs": []
    },
    {
      "cell_type": "code",
      "metadata": {
        "colab": {
          "base_uri": "https://localhost:8080/"
        },
        "id": "ICoCl8GaZu3v",
        "outputId": "4a70d714-be9f-400a-8240-f227eaf9f370"
      },
      "source": [
        "# our list of images and corresponding class labels\n",
        "print(\"[INFO] loading images...\")\n",
        "imagePaths = paths.list_images(\"obiracer97\")\n",
        "data = []\n",
        "labels = []"
      ],
      "execution_count": 4,
      "outputs": [
        {
          "output_type": "stream",
          "text": [
            "[INFO] loading images...\n"
          ],
          "name": "stdout"
        }
      ]
    },
    {
      "cell_type": "code",
      "metadata": {
        "id": "I1h4rq-TZzIH"
      },
      "source": [
        "# loop over our input images\n",
        "for imagePath in imagePaths:\n",
        "\t# load the input image from disk, resize it to 32X32 pixels, scale\n",
        "\t# the pixel intensities to the range [0, 1], and then update our\n",
        "\t# images list\n",
        "\timage = Image.open(imagePath)\n",
        "  #preprocessing\n",
        "\timage = np.array(image.resize((32, 32))) / 255.0 #normalisasi\n",
        "\tdata.append(image)\n",
        "\n",
        "\t# extract the class label from the file path and update the\n",
        "\t# labels list\n",
        "\tlabel = imagePath.split(os.path.sep)[-2]\n",
        "\tlabels.append(label)"
      ],
      "execution_count": 5,
      "outputs": []
    },
    {
      "cell_type": "code",
      "metadata": {
        "colab": {
          "base_uri": "https://localhost:8080/"
        },
        "id": "fUt42JaWdIsy",
        "outputId": "72cecbb5-04ac-4a6f-fefd-548f512e62f9"
      },
      "source": [
        "print(labels)"
      ],
      "execution_count": 6,
      "outputs": [
        {
          "output_type": "stream",
          "text": [
            "['GMB_06', 'GMB_06', 'GMB_06', 'GMB_06', 'GMB_06', 'GMB_06', 'GMB_06', 'GMB_06', 'GMB_06', 'GMB_06', 'GMB_06', 'GMB_06', 'GMB_06', 'GMB_06', 'GMB_06', 'GMB_06', 'GMB_06', 'GMB_06', 'GMB_06', 'GMB_06', 'GMB_06', 'GMB_06', 'GMB_06', 'GMB_06', 'GMB_06', 'GMB_06', 'GMB_06', 'GMB_06', 'GMB_06', 'GMB_06', 'GMB_06', 'GMB_06', 'GMB_06', 'GMB_06', 'GMB_06', 'GMB_06', 'GMB_06', 'GMB_06', 'GMB_06', 'GMB_06', 'GMB_06', 'GMB_06', 'GMB_06', 'GMB_06', 'GMB_06', 'GMB_06', 'GMB_06', 'GMB_06', 'GMB_06', 'GMB_06', 'GMB_06', 'GMB_06', 'GMB_06', 'GMB_06', 'GMB_06', 'GMB_06', 'GMB_06', 'GMB_06', 'GMB_06', 'GMB_06', 'GMB_06', 'GMB_06', 'GMB_06', 'GMB_06', 'GMB_06', 'GMB_06', 'GMB_06', 'GMB_06', 'GMB_06', 'GMB_06', 'GMB_06', 'GMB_06', 'GMB_06', 'GMB_06', 'GMB_06', 'GMB_06', 'GMB_06', 'GMB_06', 'GMB_06', 'GMB_06', 'GMB_06', 'GMB_06', 'GMB_06', 'GMB_06', 'GMB_06', 'GMB_06', 'GMB_06', 'GMB_06', 'GMB_06', 'GMB_06', 'GMB_06', 'GMB_06', 'GMB_06', 'GMB_06', 'GMB_06', 'GMB_06', 'GMB_06', 'GMB_06', 'GMB_06', 'GMB_06', 'GMB_06', 'GMB_06', 'GMB_06', 'GMB_06', 'GMB_06', 'GMB_06', 'GMB_06', 'GMB_06', 'GMB_06', 'GMB_06', 'GMB_06', 'GMB_06', 'GMB_06', 'GMB_06', 'GMB_06', 'GMB_06', 'GMB_06', 'GMB_06', 'GMB_06', 'GMB_06', 'GMB_06', 'GMB_09', 'GMB_09', 'GMB_09', 'GMB_09', 'GMB_09', 'GMB_09', 'GMB_09', 'GMB_09', 'GMB_09', 'GMB_09', 'GMB_09', 'GMB_09', 'GMB_09', 'GMB_09', 'GMB_09', 'GMB_09', 'GMB_09', 'GMB_09', 'GMB_09', 'GMB_09', 'GMB_09', 'GMB_09', 'GMB_09', 'GMB_09', 'GMB_09', 'GMB_09', 'GMB_09', 'GMB_09', 'GMB_09', 'GMB_09', 'GMB_09', 'GMB_09', 'GMB_09', 'GMB_09', 'GMB_09', 'GMB_09', 'GMB_09', 'GMB_09', 'GMB_09', 'GMB_09', 'GMB_09', 'GMB_09', 'GMB_09', 'GMB_09', 'GMB_09', 'GMB_09', 'GMB_09', 'GMB_09', 'GMB_09', 'GMB_09', 'GMB_09', 'GMB_09', 'GMB_09', 'GMB_09', 'GMB_09', 'GMB_09', 'GMB_09', 'GMB_09', 'GMB_09', 'GMB_09', 'GMB_09', 'GMB_09', 'GMB_09', 'GMB_09', 'GMB_09', 'GMB_09', 'GMB_09', 'GMB_09', 'GMB_09', 'GMB_09', 'GMB_09', 'GMB_09', 'GMB_09', 'GMB_09', 'GMB_09', 'GMB_09', 'GMB_09', 'GMB_09', 'GMB_09', 'GMB_09', 'GMB_09', 'GMB_09', 'GMB_09', 'GMB_09', 'GMB_09', 'GMB_09', 'GMB_09', 'GMB_09', 'GMB_09', 'GMB_09', 'GMB_09', 'GMB_09', 'GMB_09', 'GMB_09', 'GMB_09', 'GMB_09', 'GMB_09', 'GMB_09', 'GMB_09', 'GMB_09', 'GMB_09', 'GMB_09', 'GMB_09', 'GMB_09', 'GMB_09', 'GMB_09', 'GMB_09', 'GMB_09', 'GMB_09', 'GMB_09', 'GMB_09', 'GMB_09', 'GMB_09', 'GMB_09', 'GMB_09', 'GMB_10', 'GMB_10', 'GMB_10', 'GMB_10', 'GMB_10', 'GMB_10', 'GMB_10', 'GMB_10', 'GMB_10', 'GMB_10', 'GMB_10', 'GMB_10', 'GMB_10', 'GMB_10', 'GMB_10', 'GMB_10', 'GMB_10', 'GMB_10', 'GMB_10', 'GMB_10', 'GMB_10', 'GMB_10', 'GMB_10', 'GMB_10', 'GMB_10', 'GMB_10', 'GMB_10', 'GMB_10', 'GMB_10', 'GMB_10', 'GMB_10', 'GMB_10', 'GMB_10', 'GMB_10', 'GMB_10', 'GMB_10', 'GMB_10', 'GMB_10', 'GMB_10', 'GMB_10', 'GMB_10', 'GMB_10', 'GMB_10', 'GMB_10', 'GMB_10', 'GMB_10', 'GMB_10', 'GMB_10', 'GMB_10', 'GMB_10', 'GMB_10', 'GMB_10', 'GMB_10', 'GMB_10', 'GMB_10', 'GMB_10', 'GMB_10', 'GMB_10', 'GMB_10', 'GMB_10', 'GMB_10', 'GMB_10', 'GMB_10', 'GMB_10', 'GMB_10', 'GMB_10', 'GMB_10', 'GMB_10', 'GMB_10', 'GMB_10', 'GMB_10', 'GMB_10', 'GMB_10', 'GMB_10', 'GMB_10', 'GMB_10', 'GMB_10', 'GMB_10', 'GMB_10', 'GMB_10', 'GMB_10', 'GMB_10', 'GMB_10', 'GMB_10', 'GMB_10', 'GMB_10', 'GMB_10', 'GMB_10', 'GMB_10', 'GMB_10', 'GMB_10', 'GMB_10', 'GMB_10', 'GMB_10', 'GMB_10', 'GMB_10', 'GMB_10', 'GMB_10', 'GMB_10', 'GMB_10', 'GMB_10', 'GMB_10', 'GMB_10', 'GMB_10', 'GMB_10', 'GMB_10', 'GMB_10', 'GMB_10', 'GMB_10', 'GMB_10', 'GMB_10', 'GMB_10', 'GMB_10', 'GMB_10', 'GMB_05', 'GMB_05', 'GMB_05', 'GMB_05', 'GMB_05', 'GMB_05', 'GMB_05', 'GMB_05', 'GMB_05', 'GMB_05', 'GMB_05', 'GMB_05', 'GMB_05', 'GMB_05', 'GMB_05', 'GMB_05', 'GMB_05', 'GMB_05', 'GMB_05', 'GMB_05', 'GMB_05', 'GMB_05', 'GMB_05', 'GMB_05', 'GMB_05', 'GMB_05', 'GMB_05', 'GMB_05', 'GMB_05', 'GMB_05', 'GMB_05', 'GMB_05', 'GMB_05', 'GMB_05', 'GMB_05', 'GMB_05', 'GMB_05', 'GMB_05', 'GMB_05', 'GMB_05', 'GMB_05', 'GMB_05', 'GMB_05', 'GMB_05', 'GMB_05', 'GMB_05', 'GMB_05', 'GMB_05', 'GMB_05', 'GMB_05', 'GMB_05', 'GMB_05', 'GMB_05', 'GMB_05', 'GMB_05', 'GMB_05', 'GMB_05', 'GMB_05', 'GMB_05', 'GMB_05', 'GMB_05', 'GMB_05', 'GMB_05', 'GMB_05', 'GMB_05', 'GMB_05', 'GMB_05', 'GMB_05', 'GMB_05', 'GMB_05', 'GMB_05', 'GMB_05', 'GMB_05', 'GMB_05', 'GMB_05', 'GMB_05', 'GMB_05', 'GMB_05', 'GMB_05', 'GMB_05', 'GMB_05', 'GMB_05', 'GMB_05', 'GMB_05', 'GMB_05', 'GMB_05', 'GMB_05', 'GMB_05', 'GMB_05', 'GMB_05', 'GMB_05', 'GMB_05', 'GMB_05', 'GMB_05', 'GMB_05', 'GMB_05', 'GMB_05', 'GMB_05', 'GMB_05', 'GMB_05', 'GMB_05', 'GMB_05', 'GMB_05', 'GMB_05', 'GMB_05', 'GMB_05', 'GMB_05', 'GMB_05', 'GMB_05', 'GMB_05', 'GMB_05', 'GMB_05', 'GMB_05', 'GMB_05', 'GMB_05', 'GMB_05', 'GMB_05', 'GMB_05', 'GMB_05', 'GMB_05', 'GMB_05', 'GMB_01', 'GMB_01', 'GMB_01', 'GMB_01', 'GMB_01', 'GMB_01', 'GMB_01', 'GMB_01', 'GMB_01', 'GMB_01', 'GMB_01', 'GMB_01', 'GMB_01', 'GMB_01', 'GMB_01', 'GMB_01', 'GMB_01', 'GMB_01', 'GMB_01', 'GMB_01', 'GMB_01', 'GMB_01', 'GMB_01', 'GMB_01', 'GMB_01', 'GMB_01', 'GMB_01', 'GMB_01', 'GMB_01', 'GMB_01', 'GMB_01', 'GMB_01', 'GMB_01', 'GMB_01', 'GMB_01', 'GMB_01', 'GMB_01', 'GMB_01', 'GMB_01', 'GMB_01', 'GMB_01', 'GMB_01', 'GMB_01', 'GMB_01', 'GMB_01', 'GMB_01', 'GMB_01', 'GMB_01', 'GMB_01', 'GMB_01', 'GMB_01', 'GMB_01', 'GMB_01', 'GMB_01', 'GMB_01', 'GMB_01', 'GMB_01', 'GMB_01', 'GMB_01', 'GMB_01', 'GMB_01', 'GMB_01', 'GMB_01', 'GMB_01', 'GMB_01', 'GMB_01', 'GMB_01', 'GMB_01', 'GMB_01', 'GMB_01', 'GMB_01', 'GMB_01', 'GMB_01', 'GMB_01', 'GMB_01', 'GMB_01', 'GMB_01', 'GMB_01', 'GMB_01', 'GMB_01', 'GMB_01', 'GMB_01', 'GMB_01', 'GMB_01', 'GMB_01', 'GMB_01', 'GMB_01', 'GMB_01', 'GMB_01', 'GMB_01', 'GMB_01', 'GMB_01', 'GMB_01', 'GMB_01', 'GMB_01', 'GMB_01', 'GMB_01', 'GMB_01', 'GMB_01', 'GMB_01', 'GMB_01', 'GMB_01', 'GMB_01', 'GMB_01', 'GMB_01', 'GMB_01', 'GMB_01', 'GMB_01', 'GMB_01', 'GMB_01', 'GMB_01', 'GMB_01', 'GMB_01', 'GMB_01', 'GMB_01', 'GMB_01']\n"
          ],
          "name": "stdout"
        }
      ]
    },
    {
      "cell_type": "code",
      "metadata": {
        "id": "q9OhmYmwdNJB"
      },
      "source": [
        "lb = LabelBinarizer()\n",
        "labels = lb.fit_transform(labels)"
      ],
      "execution_count": 7,
      "outputs": []
    },
    {
      "cell_type": "code",
      "metadata": {
        "colab": {
          "base_uri": "https://localhost:8080/"
        },
        "id": "nl5OgvAfdRwz",
        "outputId": "3a34da60-e9d6-4622-d4d5-357d0d35032d"
      },
      "source": [
        "print(labels)"
      ],
      "execution_count": 8,
      "outputs": [
        {
          "output_type": "stream",
          "text": [
            "[[0 0 1 0 0]\n",
            " [0 0 1 0 0]\n",
            " [0 0 1 0 0]\n",
            " ...\n",
            " [1 0 0 0 0]\n",
            " [1 0 0 0 0]\n",
            " [1 0 0 0 0]]\n"
          ],
          "name": "stdout"
        }
      ]
    },
    {
      "cell_type": "code",
      "metadata": {
        "colab": {
          "base_uri": "https://localhost:8080/"
        },
        "id": "OcYhNpSgdVph",
        "outputId": "958ec6ef-481a-4250-bd8a-103df9438e6d"
      },
      "source": [
        "# perform a training and testing split, using 75% of the data for\n",
        "# training and 25% for evaluation\n",
        "(trainX, testX, trainY, testY) = train_test_split(np.array(data),\tnp.array(labels), test_size=0.25, shuffle=True)\n",
        "print(trainX.shape)\n",
        "print(testX.shape)"
      ],
      "execution_count": 9,
      "outputs": [
        {
          "output_type": "stream",
          "text": [
            "(440, 32, 32, 3)\n",
            "(147, 32, 32, 3)\n"
          ],
          "name": "stdout"
        }
      ]
    },
    {
      "cell_type": "code",
      "metadata": {
        "colab": {
          "base_uri": "https://localhost:8080/"
        },
        "id": "eRweiITIdaob",
        "outputId": "8dc19e1d-9785-48ec-b916-0898077cfe9c"
      },
      "source": [
        "from keras.layers import Convolution2D, MaxPooling2D\n",
        "from keras.models import Sequential\n",
        "from keras.layers.core import Flatten, Dense\n",
        "\n",
        "model1 = Sequential()\n",
        "model1.add(Convolution2D(32, (3,3), activation='relu', input_shape=(32,32,3)))\n",
        "model1.add(MaxPooling2D(2,2))\n",
        "model1.add(Convolution2D(64, (3,3), activation='relu'))\n",
        "model1.add(MaxPooling2D(2,2))\n",
        "model1.add(Convolution2D(64, (3,3), activation='relu'))\n",
        "model1.add(MaxPooling2D(2,2))\n",
        "#fully connected layer\n",
        "model1.add(Flatten())\n",
        "model1.add(Dense(100, activation='relu'))\n",
        "model1.add(Dense(5, activation='softmax'))\n",
        "\n",
        "model1.summary()"
      ],
      "execution_count": 10,
      "outputs": [
        {
          "output_type": "stream",
          "text": [
            "Model: \"sequential\"\n",
            "_________________________________________________________________\n",
            "Layer (type)                 Output Shape              Param #   \n",
            "=================================================================\n",
            "conv2d (Conv2D)              (None, 30, 30, 32)        896       \n",
            "_________________________________________________________________\n",
            "max_pooling2d (MaxPooling2D) (None, 15, 15, 32)        0         \n",
            "_________________________________________________________________\n",
            "conv2d_1 (Conv2D)            (None, 13, 13, 64)        18496     \n",
            "_________________________________________________________________\n",
            "max_pooling2d_1 (MaxPooling2 (None, 6, 6, 64)          0         \n",
            "_________________________________________________________________\n",
            "conv2d_2 (Conv2D)            (None, 4, 4, 64)          36928     \n",
            "_________________________________________________________________\n",
            "max_pooling2d_2 (MaxPooling2 (None, 2, 2, 64)          0         \n",
            "_________________________________________________________________\n",
            "flatten (Flatten)            (None, 256)               0         \n",
            "_________________________________________________________________\n",
            "dense (Dense)                (None, 100)               25700     \n",
            "_________________________________________________________________\n",
            "dense_1 (Dense)              (None, 5)                 505       \n",
            "=================================================================\n",
            "Total params: 82,525\n",
            "Trainable params: 82,525\n",
            "Non-trainable params: 0\n",
            "_________________________________________________________________\n"
          ],
          "name": "stdout"
        }
      ]
    },
    {
      "cell_type": "code",
      "metadata": {
        "colab": {
          "base_uri": "https://localhost:8080/"
        },
        "id": "iJisR2SHdfj0",
        "outputId": "c989c850-042f-402d-dceb-cdfd9cc26cdf"
      },
      "source": [
        "# train the model using the Adam optimizer\n",
        "print(\"[INFO] training network...\")\n",
        "opt = Adam(lr=1e-3, decay=1e-3 / 50)\n",
        "model1.compile(loss=\"categorical_crossentropy\", optimizer=opt, metrics=[\"accuracy\"])"
      ],
      "execution_count": 11,
      "outputs": [
        {
          "output_type": "stream",
          "text": [
            "[INFO] training network...\n"
          ],
          "name": "stdout"
        }
      ]
    },
    {
      "cell_type": "code",
      "metadata": {
        "colab": {
          "base_uri": "https://localhost:8080/"
        },
        "id": "HAGAWrIcdj5t",
        "outputId": "979a4d58-824e-4b4b-90fc-e4daac8b1599"
      },
      "source": [
        "H = model1.fit(trainX, trainY, validation_data=(testX, testY), epochs=38, batch_size=42)"
      ],
      "execution_count": 12,
      "outputs": [
        {
          "output_type": "stream",
          "text": [
            "Epoch 1/38\n",
            "11/11 [==============================] - 1s 65ms/step - loss: 1.6055 - accuracy: 0.2455 - val_loss: 1.5837 - val_accuracy: 0.2585\n",
            "Epoch 2/38\n",
            "11/11 [==============================] - 1s 53ms/step - loss: 1.5206 - accuracy: 0.3636 - val_loss: 1.4061 - val_accuracy: 0.4694\n",
            "Epoch 3/38\n",
            "11/11 [==============================] - 1s 52ms/step - loss: 1.3696 - accuracy: 0.4773 - val_loss: 1.3502 - val_accuracy: 0.3946\n",
            "Epoch 4/38\n",
            "11/11 [==============================] - 1s 51ms/step - loss: 1.2900 - accuracy: 0.4909 - val_loss: 1.2219 - val_accuracy: 0.5034\n",
            "Epoch 5/38\n",
            "11/11 [==============================] - 1s 53ms/step - loss: 1.2195 - accuracy: 0.4955 - val_loss: 1.1887 - val_accuracy: 0.4830\n",
            "Epoch 6/38\n",
            "11/11 [==============================] - 1s 52ms/step - loss: 1.1793 - accuracy: 0.5091 - val_loss: 1.1532 - val_accuracy: 0.5306\n",
            "Epoch 7/38\n",
            "11/11 [==============================] - 1s 52ms/step - loss: 1.0775 - accuracy: 0.5455 - val_loss: 1.0515 - val_accuracy: 0.5238\n",
            "Epoch 8/38\n",
            "11/11 [==============================] - 1s 52ms/step - loss: 1.0312 - accuracy: 0.5591 - val_loss: 0.9947 - val_accuracy: 0.5442\n",
            "Epoch 9/38\n",
            "11/11 [==============================] - 1s 52ms/step - loss: 0.9739 - accuracy: 0.5886 - val_loss: 1.0028 - val_accuracy: 0.5986\n",
            "Epoch 10/38\n",
            "11/11 [==============================] - 1s 53ms/step - loss: 0.9273 - accuracy: 0.6159 - val_loss: 0.9424 - val_accuracy: 0.6190\n",
            "Epoch 11/38\n",
            "11/11 [==============================] - 1s 52ms/step - loss: 0.8923 - accuracy: 0.6091 - val_loss: 0.9171 - val_accuracy: 0.6054\n",
            "Epoch 12/38\n",
            "11/11 [==============================] - 1s 52ms/step - loss: 0.8718 - accuracy: 0.6636 - val_loss: 0.9398 - val_accuracy: 0.5714\n",
            "Epoch 13/38\n",
            "11/11 [==============================] - 1s 53ms/step - loss: 0.8349 - accuracy: 0.7000 - val_loss: 0.8194 - val_accuracy: 0.7007\n",
            "Epoch 14/38\n",
            "11/11 [==============================] - 1s 52ms/step - loss: 0.7936 - accuracy: 0.6818 - val_loss: 0.8938 - val_accuracy: 0.6054\n",
            "Epoch 15/38\n",
            "11/11 [==============================] - 1s 53ms/step - loss: 0.7739 - accuracy: 0.7227 - val_loss: 0.8293 - val_accuracy: 0.6599\n",
            "Epoch 16/38\n",
            "11/11 [==============================] - 1s 52ms/step - loss: 0.7598 - accuracy: 0.7364 - val_loss: 0.8886 - val_accuracy: 0.6871\n",
            "Epoch 17/38\n",
            "11/11 [==============================] - 1s 52ms/step - loss: 0.7423 - accuracy: 0.7045 - val_loss: 0.7835 - val_accuracy: 0.7007\n",
            "Epoch 18/38\n",
            "11/11 [==============================] - 1s 54ms/step - loss: 0.6719 - accuracy: 0.7591 - val_loss: 0.7338 - val_accuracy: 0.7415\n",
            "Epoch 19/38\n",
            "11/11 [==============================] - 1s 53ms/step - loss: 0.6306 - accuracy: 0.7523 - val_loss: 0.7622 - val_accuracy: 0.7007\n",
            "Epoch 20/38\n",
            "11/11 [==============================] - 1s 52ms/step - loss: 0.5981 - accuracy: 0.8000 - val_loss: 0.9490 - val_accuracy: 0.6122\n",
            "Epoch 21/38\n",
            "11/11 [==============================] - 1s 53ms/step - loss: 0.6501 - accuracy: 0.7591 - val_loss: 0.7849 - val_accuracy: 0.6803\n",
            "Epoch 22/38\n",
            "11/11 [==============================] - 1s 52ms/step - loss: 0.5543 - accuracy: 0.7818 - val_loss: 0.7129 - val_accuracy: 0.7143\n",
            "Epoch 23/38\n",
            "11/11 [==============================] - 1s 53ms/step - loss: 0.5237 - accuracy: 0.8114 - val_loss: 0.7447 - val_accuracy: 0.7279\n",
            "Epoch 24/38\n",
            "11/11 [==============================] - 1s 54ms/step - loss: 0.4939 - accuracy: 0.8182 - val_loss: 0.6957 - val_accuracy: 0.7415\n",
            "Epoch 25/38\n",
            "11/11 [==============================] - 1s 52ms/step - loss: 0.4694 - accuracy: 0.8205 - val_loss: 0.6319 - val_accuracy: 0.7755\n",
            "Epoch 26/38\n",
            "11/11 [==============================] - 1s 53ms/step - loss: 0.4384 - accuracy: 0.8409 - val_loss: 0.6100 - val_accuracy: 0.7891\n",
            "Epoch 27/38\n",
            "11/11 [==============================] - 1s 53ms/step - loss: 0.4187 - accuracy: 0.8545 - val_loss: 0.6157 - val_accuracy: 0.7755\n",
            "Epoch 28/38\n",
            "11/11 [==============================] - 1s 53ms/step - loss: 0.3835 - accuracy: 0.8636 - val_loss: 0.7156 - val_accuracy: 0.7347\n",
            "Epoch 29/38\n",
            "11/11 [==============================] - 1s 56ms/step - loss: 0.3617 - accuracy: 0.8750 - val_loss: 0.6459 - val_accuracy: 0.7619\n",
            "Epoch 30/38\n",
            "11/11 [==============================] - 1s 53ms/step - loss: 0.3384 - accuracy: 0.8841 - val_loss: 0.7249 - val_accuracy: 0.7551\n",
            "Epoch 31/38\n",
            "11/11 [==============================] - 1s 52ms/step - loss: 0.3472 - accuracy: 0.8659 - val_loss: 0.6326 - val_accuracy: 0.8027\n",
            "Epoch 32/38\n",
            "11/11 [==============================] - 1s 54ms/step - loss: 0.3696 - accuracy: 0.8455 - val_loss: 0.6672 - val_accuracy: 0.7551\n",
            "Epoch 33/38\n",
            "11/11 [==============================] - 1s 53ms/step - loss: 0.3038 - accuracy: 0.8977 - val_loss: 0.6365 - val_accuracy: 0.8163\n",
            "Epoch 34/38\n",
            "11/11 [==============================] - 1s 52ms/step - loss: 0.3086 - accuracy: 0.9023 - val_loss: 0.6278 - val_accuracy: 0.8027\n",
            "Epoch 35/38\n",
            "11/11 [==============================] - 1s 54ms/step - loss: 0.2488 - accuracy: 0.9159 - val_loss: 0.6146 - val_accuracy: 0.8095\n",
            "Epoch 36/38\n",
            "11/11 [==============================] - 1s 53ms/step - loss: 0.2331 - accuracy: 0.9068 - val_loss: 0.5776 - val_accuracy: 0.8367\n",
            "Epoch 37/38\n",
            "11/11 [==============================] - 1s 53ms/step - loss: 0.2111 - accuracy: 0.9273 - val_loss: 0.6591 - val_accuracy: 0.7687\n",
            "Epoch 38/38\n",
            "11/11 [==============================] - 1s 54ms/step - loss: 0.1906 - accuracy: 0.9341 - val_loss: 0.5581 - val_accuracy: 0.8231\n"
          ],
          "name": "stdout"
        }
      ]
    },
    {
      "cell_type": "code",
      "metadata": {
        "colab": {
          "base_uri": "https://localhost:8080/",
          "height": 590
        },
        "id": "usXSkGRLdusW",
        "outputId": "805215b3-945e-4847-db4c-7a729eb941d1"
      },
      "source": [
        "import matplotlib.pyplot as plt\n",
        "\n",
        "print(H.history.keys())\n",
        "# summarize history for accuracy\n",
        "plt.plot(H.history['accuracy'])\n",
        "plt.plot(H.history['val_accuracy'])\n",
        "plt.title('model accuracy')\n",
        "plt.ylabel('accuracy')\n",
        "plt.xlabel('epoch')\n",
        "plt.legend(['train', 'test'], loc='upper left')\n",
        "plt.show()\n",
        "# summarize history for loss\n",
        "plt.plot(H.history['loss'])\n",
        "plt.plot(H.history['val_loss'])\n",
        "plt.title('model loss')\n",
        "plt.ylabel('loss')\n",
        "plt.xlabel('epoch')\n",
        "plt.legend(['train', 'test'], loc='upper left')\n",
        "plt.show()"
      ],
      "execution_count": 13,
      "outputs": [
        {
          "output_type": "stream",
          "text": [
            "dict_keys(['loss', 'accuracy', 'val_loss', 'val_accuracy'])\n"
          ],
          "name": "stdout"
        },
        {
          "output_type": "display_data",
          "data": {
            "image/png": "[encoded data removed]",
            "text/plain": [
              "<Figure size 432x288 with 1 Axes>"
            ]
          },
          "metadata": {
            "tags": [],
            "needs_background": "light"
          }
        },
        {
          "output_type": "display_data",
          "data": {
            "image/png": "[encoded data removed]",
            "text/plain": [
              "<Figure size 432x288 with 1 Axes>"
            ]
          },
          "metadata": {
            "tags": [],
            "needs_background": "light"
          }
        }
      ]
    },
    {
      "cell_type": "code",
      "metadata": {
        "colab": {
          "base_uri": "https://localhost:8080/"
        },
        "id": "tnimeIOjdzbz",
        "outputId": "996920a0-8171-4fa8-ca86-afd5272142f8"
      },
      "source": [
        "# evaluate the network\n",
        "print(\"[INFO] evaluating network...\")\n",
        "predictions = model1.predict(testX, batch_size=42)\n",
        "print(classification_report(testY.argmax(axis=1),\n",
        "\tpredictions.argmax(axis=1), target_names=lb.classes_))"
      ],
      "execution_count": 14,
      "outputs": [
        {
          "output_type": "stream",
          "text": [
            "[INFO] evaluating network...\n",
            "              precision    recall  f1-score   support\n",
            "\n",
            "      GMB_01       0.79      1.00      0.88        19\n",
            "      GMB_05       0.73      0.77      0.75        31\n",
            "      GMB_06       0.87      0.85      0.86        40\n",
            "      GMB_09       0.85      1.00      0.92        23\n",
            "      GMB_10       0.88      0.62      0.72        34\n",
            "\n",
            "    accuracy                           0.82       147\n",
            "   macro avg       0.82      0.85      0.83       147\n",
            "weighted avg       0.83      0.82      0.82       147\n",
            "\n"
          ],
          "name": "stdout"
        }
      ]
    }
  ]
}